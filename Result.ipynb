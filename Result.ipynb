{
 "cells": [
  {
   "cell_type": "markdown",
   "id": "6d39e280",
   "metadata": {},
   "source": [
    "# The Results are as follows\n"
   ]
  },
  {
   "cell_type": "markdown",
   "id": "19d3c3d0",
   "metadata": {},
   "source": [
    "## Without sorting"
   ]
  },
  {
   "cell_type": "markdown",
   "id": "fba3eb97",
   "metadata": {},
   "source": [
    "###### mean absolute error: 4.183859899002975\n",
    "###### mean squared error: 21.598769307217406\n"
   ]
  },
  {
   "cell_type": "markdown",
   "id": "21f9e8ce",
   "metadata": {},
   "source": [
    "## With sorting"
   ]
  },
  {
   "cell_type": "markdown",
   "id": "c73c18e5",
   "metadata": {},
   "source": [
    "###### mean absolute error: 4.621333622532765\n",
    "###### mean squared error: 26.48744628887337"
   ]
  }
 ],
 "metadata": {
  "kernelspec": {
   "display_name": "Python 3 (ipykernel)",
   "language": "python",
   "name": "python3"
  },
  "language_info": {
   "codemirror_mode": {
    "name": "ipython",
    "version": 3
   },
   "file_extension": ".py",
   "mimetype": "text/x-python",
   "name": "python",
   "nbconvert_exporter": "python",
   "pygments_lexer": "ipython3",
   "version": "3.10.2"
  }
 },
 "nbformat": 4,
 "nbformat_minor": 5
}
